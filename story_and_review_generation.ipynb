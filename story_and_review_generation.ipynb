{
 "cells": [
  {
   "cell_type": "markdown",
   "id": "8654c1a1-8c11-4cd4-9f6a-7217919a182b",
   "metadata": {},
   "source": [
    "# Story and Review Generation using Langchain"
   ]
  },
  {
   "cell_type": "markdown",
   "id": "cd239fd7-2be7-49ba-84a2-b1470090ace1",
   "metadata": {},
   "source": [
    "### Importing Necessary Dependencies"
   ]
  },
  {
   "cell_type": "code",
   "execution_count": 1,
   "id": "b324d865-0d13-49a8-b42a-ece5207bba3b",
   "metadata": {},
   "outputs": [],
   "source": [
    "from warnings import filterwarnings\n",
    "filterwarnings('ignore')\n",
    "import os\n",
    "from langchain.chat_models import ChatOpenAI\n",
    "from langchain import PromptTemplate, Cohere\n",
    "from langchain.schema import HumanMessage, SystemMessage, AIMessage"
   ]
  },
  {
   "cell_type": "markdown",
   "id": "4c8405fe-ad73-4466-b0c0-072b36019c0a",
   "metadata": {},
   "source": [
    "### Defining API keys as environment variables"
   ]
  },
  {
   "cell_type": "markdown",
   "id": "3fff4f47-07d1-4f2c-b0fc-4a7e7a295113",
   "metadata": {},
   "source": [
    "**Where to get the API keys from?**\n",
    "\n",
    "`OpenAI API Key` - https://platform.openai.com/account/api-keys\n",
    "\n",
    "`Cohere API Key` - https://dashboard.cohere.com/api-keys"
   ]
  },
  {
   "cell_type": "code",
   "execution_count": 2,
   "id": "d71a7ce2-1e06-4281-9875-6dad840ae2d3",
   "metadata": {},
   "outputs": [],
   "source": [
    "os.environ[\"OPENAI_API_KEY\"] = \"xxxxxxxxxxxxxxxxxxxxxxxxxxxxxxxxxxxxxxxx\"\n",
    "os.environ[\"COHERE_API_KEY\"] = \"xxxxxxxxxxxxxxxxxxxxxxxxxxxxxxxxxxxxxxxx\""
   ]
  },
  {
   "cell_type": "markdown",
   "id": "93812c28-3a2f-4404-9dfb-c28421a41667",
   "metadata": {},
   "source": [
    "### Creating two model instances one each for story and review generation"
   ]
  },
  {
   "cell_type": "markdown",
   "id": "04bf97e8-0a51-4169-ae95-0ac563198632",
   "metadata": {},
   "source": [
    "This is where I happened to struggle a bit. I will explain how I have went through this phase which took most of my time (Around 75%).\n",
    "\n",
    "- After using `OpenAI model` for `story generation` which is `highly reliable` model with comparitively high input/output token limit, I **couldn't find any equally reliable model** for consistent and reliable output delivery **for review generation**.\n",
    "\n",
    "- I have gone through most important models available in HuggingFaceHub model repositories and tried my hands over many models using inference API of HuggingFaceHub.\n",
    "\n",
    "- Got access in a very short span of time in meta waitlist and tried the latest `Llama2-70b` model but it isn't providing API access as of now.\n",
    "\n",
    "- Then tried with `google-fang` models in HuggingFaceHub model space. Though they were accessible easily, they didn't provide output for a set no. of tokens.\n",
    "\n",
    "- Then searched whether there's access for Google's `BARD API` and Google's `PALM` model. But BARD doesn't provide API services as of now and PALM API available only in US and that too with quite a big waitlist to get access... So, left this option as well.\n",
    "\n",
    "- Then randomly I went through an old twitter(now X) DM from a developer where he seem to have asked me to test his new library named `litellm` that he built. But, I haven't noticed it back then and now went through his repo and found that he used `Cohere` somewhere. That's when I tried my hands with the same, got API access and have luckily found it to be `integrated with Langchain` as well.\n",
    "\n",
    "Also **important thing to notice** here is **even with cohere's nightly models, I couldn't get reliable results** for review generation though it was way better than other models that I have tried. Then I have gone through cohere website completely and found a way to build a **custom model with cohere as base model.** Then I `created custom jsonl dataset` with some `40 examples` of how the prompt would be and how the response should be using GPT 3.5 Turbo and used the same to fine-tune the custom model. That's what I have used below as cohere model. You can see that I have given a lengthy string for model parameter - `'a6cbb8d1-1bb6-415c-9543-c0484ee3a5b8-ft'`"
   ]
  },
  {
   "cell_type": "code",
   "execution_count": 3,
   "id": "b85c668d-7b10-4ba6-ac79-e227399b1d60",
   "metadata": {},
   "outputs": [],
   "source": [
    "story_llm = ChatOpenAI(temperature = 0.9)\n",
    "review_llm = Cohere(model = 'a6cbb8d1-1bb6-415c-9543-c0484ee3a5b8-ft', temperature = 0.25)"
   ]
  },
  {
   "cell_type": "markdown",
   "id": "5ffc05a1-b0b7-4b2e-bc88-8dd1bdfee6bf",
   "metadata": {},
   "source": [
    "### Story Generation"
   ]
  },
  {
   "cell_type": "markdown",
   "id": "179a3bf6-bd5b-4f8f-9eae-d0d15cfef1ec",
   "metadata": {},
   "source": [
    "Here I have used some nuanced way of providing prompt to the LLM using Langchain's extraordinary methods."
   ]
  },
  {
   "cell_type": "code",
   "execution_count": 4,
   "id": "08c9eaca-2171-4e3d-af97-2c5022c4db84",
   "metadata": {},
   "outputs": [],
   "source": [
    "message = [\n",
    "            SystemMessage(content = \"You are a nice AI bot named Lee that children all over the world love a lot as you help them sleep at night daily with a short and sweet story in the genre they ask for\"),\n",
    "            HumanMessage(content = \"Hey Lee, today I would like to hear a story from you in {} genre. Can you help me sleep today?\"),\n",
    "            AIMessage(content = \"Hey kiddo, that sounds like a nice genre to go for and the surprise is, I too have a story with me in that genre. Shall we start our story today?\"),\n",
    "            HumanMessage(content = \"Yeah please go ahead with our story Lee\")\n",
    "            ]"
   ]
  },
  {
   "cell_type": "code",
   "execution_count": 5,
   "id": "0099c218-c221-4ddd-8972-d045cf467147",
   "metadata": {},
   "outputs": [],
   "source": [
    "#  To dynamically change the genre we have done something over here...\n",
    "\n",
    "genre = 'sci-fi'\n",
    "\n",
    "message[1].content = message[1].content.replace('{}', genre)"
   ]
  },
  {
   "cell_type": "code",
   "execution_count": 6,
   "id": "92b01a5b-22c0-494b-b4c5-3fd7b34de5d2",
   "metadata": {},
   "outputs": [
    {
     "name": "stdout",
     "output_type": "stream",
     "text": [
      "Once upon a time in a distant galaxy, there was a young girl named Luna. Luna lived on a small planet called Nova, which was known for its vibrant and breathtaking celestial displays.\n",
      "\n",
      "Luna was a curious and adventurous child, always yearning to explore the mysteries of the universe. She spent her days studying the stars and dreaming of far-off galaxies. One night, as she gazed at the sky, she noticed a streak of light shooting across the horizon.\n",
      "\n",
      "Intrigued by this unusual occurrence, Luna followed the path of the shooting star. To her astonishment, she discovered a crashed spaceship hidden among the trees. She cautiously approached the ship, her heart racing with excitement.\n",
      "\n",
      "Inside, she found a small, friendly extraterrestrial creature named Zephyr. Zephyr was from a distant planet called Nebula, and he had crash-landed on Nova while on a mission to explore the cosmos.\n",
      "\n",
      "Luna and Zephyr quickly became friends. Zephyr shared stories of his adventures across galaxies, dazzling Luna with tales of alien civilizations and futuristic technology. Luna, in turn, told Zephyr about her dreams of becoming an intergalactic explorer.\n",
      "\n",
      "Together, they embarked on thrilling journeys through space, discovering new worlds and encountering strange and fascinating beings. They visited planets with floating cities, explored underwater civilizations, and even encountered a race of shape-shifting aliens.\n",
      "\n",
      "As Luna and Zephyr ventured further into the cosmos, they learned valuable lessons about friendship, courage, and the importance of cherishing our own planet. With every adventure, Luna's love for the universe grew, and she dreamed of someday becoming a renowned astronomer.\n",
      "\n",
      "After a year of incredible escapades, it was time for Zephyr to return home. Luna bid him a tearful goodbye but promised to always cherish their adventures together.\n",
      "\n",
      "Back on Nova, the young girl shared her adventures with her friends and family, inspiring others to dream big and explore the wonders of the universe. Luna's passion for space shaped her future, and she went on to become one of the greatest astronomers in the galaxy.\n",
      "\n",
      "And as for Zephyr, he never forgot his time with Luna. He often visited Nova, secretly watching over her from the stars, always reminding her to keep reaching for the stars and exploring the unknown.\n",
      "\n",
      "And so, Luna and Zephyr's tale became a legend, inspiring generations of dreamers and explorers to look up at the night sky and wonder about the countless possibilities that lay beyond.\n",
      "\n",
      "As you drift off to sleep, remember that just like Luna and Zephyr, you too can explore the universe of dreams and imagination. Goodnight, sleep tight, and dream of your own incredible journeys among the stars.\n"
     ]
    }
   ],
   "source": [
    "convo = story_llm(message)\n",
    "\n",
    "story = convo.content\n",
    "\n",
    "print(story)"
   ]
  },
  {
   "cell_type": "markdown",
   "id": "f5d48534-dd2f-4ae2-9db3-43cd86b9d762",
   "metadata": {},
   "source": [
    "### Review Generation"
   ]
  },
  {
   "cell_type": "markdown",
   "id": "f6f8e4a0-f1fd-4a25-ac29-ddb3ee3e08fe",
   "metadata": {},
   "source": [
    "Here the prompt template below might look so simple. But, that was made possible only because of the custom model that we built using Cohere."
   ]
  },
  {
   "cell_type": "code",
   "execution_count": 7,
   "id": "2815573e-f444-4a4f-92e9-9a450f0d6d09",
   "metadata": {},
   "outputs": [],
   "source": [
    "prompt_template = \"\"\"{story}\n",
    "                     Write a review on above story in 3 sentences.\n",
    "                  \"\"\"\n",
    "\n",
    "prompt =  PromptTemplate(input_variables=['story'], template=prompt_template)"
   ]
  },
  {
   "cell_type": "code",
   "execution_count": 8,
   "id": "4dadae2c-e873-456b-9ebd-a26c92c7d1bd",
   "metadata": {},
   "outputs": [],
   "source": [
    "# Filling the placeholder with appropriate variable i.e; story\n",
    "\n",
    "PROMPT = prompt.format(story = story).strip()"
   ]
  },
  {
   "cell_type": "code",
   "execution_count": 9,
   "id": "fe7029cd-5023-4fb4-aa9d-b7bbfe8ee8fa",
   "metadata": {},
   "outputs": [
    {
     "name": "stdout",
     "output_type": "stream",
     "text": [
      "Review:  The story of Luna and Zephyr is a captivating blend of friendship, adventure, and the wonders of the universe. The narrative transports young readers to a world where space exploration is a dream and where friendship across galaxies is a reality. Through its vivid portrayal of Luna's adventures and the bond she forms with Zephyr, the story resonates as a reminder that the cosmos is calling, and the best adventures are those shared.\n"
     ]
    }
   ],
   "source": [
    "review = review_llm.generate([PROMPT]).generations[0][0].text\n",
    "print(f'Review: {review}')"
   ]
  },
  {
   "cell_type": "markdown",
   "id": "e10e3e88-f18c-4828-a710-19e2a597484e",
   "metadata": {},
   "source": [
    "### Structurising the Output"
   ]
  },
  {
   "cell_type": "markdown",
   "id": "014f691f-7961-4997-9854-5cb5475d374a",
   "metadata": {},
   "source": [
    "Now that we have understood the process, let's compile everything into a single function and call it to get both the story and review."
   ]
  },
  {
   "cell_type": "code",
   "execution_count": 10,
   "id": "a6524a18-9b31-48a4-8808-c34785ba4641",
   "metadata": {},
   "outputs": [],
   "source": [
    "def generate_story_and_review(openai_api_key, cohere_api_key, genre = 'sci-fi'):\n",
    "    \n",
    "    \"\"\"This function will generate a story in the genre of your interest using OpenAI's chat model and \n",
    "        reviews the same story using custom model made by me using CohereAI\n",
    "    Args:\n",
    "        genre (str, optional): Genre of your interest in which you want story. Defaults to 'science-fiction'\n",
    "        openai_api_key (str): Provide the API key of OpenAI model. Get it from here - https://platform.openai.com/account/api-keys\n",
    "        cohere_api_key (str): Provide the API key of Cohere model. Get it from here - https://dashboard.cohere.com/api-keys\n",
    "    Raises:\n",
    "        TypeError: If parameters not of desired datatype\n",
    "        Exception: Any other error\n",
    "    Returns:\n",
    "        str: Story and Review as two seperate strings\n",
    "    \"\"\"\n",
    "    \n",
    "    try:\n",
    "        \n",
    "        if type(openai_api_key) != str or type(cohere_api_key) != str:\n",
    "            raise TypeError(\"API key must be of string datatype. Please check whether you have provided string input in both cases\")\n",
    "        else:\n",
    "            os.environ[\"OPENAI_API_KEY\"] = openai_api_key\n",
    "            os.environ[\"COHERE_API_KEY\"] = cohere_api_key\n",
    "            \n",
    "            story_llm = ChatOpenAI(temperature = 0.9)\n",
    "            review_llm = Cohere(model = 'a6cbb8d1-1bb6-415c-9543-c0484ee3a5b8-ft', temperature = 0.25)\n",
    "            \n",
    "            message = [\n",
    "                        SystemMessage(content = \"You are a nice AI bot named Lee that children all over the world love a lot as you help them sleep at night daily with a short and sweet story in the genre they ask for\"),\n",
    "                        HumanMessage(content = \"Hey Lee, today I would like to hear a story from you in {} genre. Can you help me sleep today?\"),\n",
    "                        AIMessage(content = \"Hey kiddo, that sounds like a nice genre to go for and the surprise is, I too have a story with me in that genre. Shall we start our story today?\"),\n",
    "                        HumanMessage(content = \"Yeah please go ahead with our story Lee\")\n",
    "                        ]\n",
    "        \n",
    "            if type(genre) != str:\n",
    "                raise TypeError(\"Genre must be of string datatype. Please check whether you have provided input of correct datatype\")\n",
    "            else:\n",
    "                message[1].content = message[1].content.replace('{}', genre)\n",
    "                story = story_llm(message).content\n",
    "                \n",
    "                prompt_template = \"\"\"{story}\n",
    "                                     Write a review on above story in 3 sentences.\n",
    "                                  \"\"\"\n",
    "                prompt =  PromptTemplate(input_variables=['story'], template = prompt_template)\n",
    "                PROMPT = prompt.format(story = story).strip()\n",
    "                \n",
    "                review = review_llm.generate([PROMPT]).generations[0][0].text\n",
    "        \n",
    "        return story, review\n",
    "        \n",
    "    except Exception as e:\n",
    "        print(f\"An error occurred: {e}\")"
   ]
  },
  {
   "cell_type": "code",
   "execution_count": 11,
   "id": "c24c3eab-1244-4463-a4e7-34fd7e5d76f2",
   "metadata": {},
   "outputs": [],
   "source": [
    "story, review = generate_story_and_review(\n",
    "                                          openai_api_key = \"xxxxxxxxxxxxxxxxxxxxxxxxxxxxxxxxxxxxxxxx\",\n",
    "                                          cohere_api_key = \"xxxxxxxxxxxxxxxxxxxxxxxxxxxxxxxxxxxxxxxx\",\n",
    "                                          genre = \"fantasy\"\n",
    "                                         )"
   ]
  },
  {
   "cell_type": "code",
   "execution_count": 12,
   "id": "c72156c4-f4e8-49ed-8c72-92119ae6f79f",
   "metadata": {},
   "outputs": [
    {
     "name": "stdout",
     "output_type": "stream",
     "text": [
      "Story:\n",
      "\n",
      "Once upon a time, in a land far, far away, there was a little girl named Lily. Lily lived in a small village surrounded by thick, enchanted forests. This village was full of ordinary people, but Lily was no ordinary girl. She had a magical gift - the ability to talk to animals.\n",
      "\n",
      "One day, while exploring the woods, Lily stumbled upon a wounded baby dragon. The dragon had a twisted wing and was unable to fly. Lily's heart filled with compassion, and she decided to help the dragon. She gently approached the dragon, speaking softly and reassuringly.\n",
      "\n",
      "To her surprise, the dragon understood her words and responded with a low, rumbling purr. Lily carefully tended to the dragon's wing, placing a splint and bandages to help it heal. Days turned into weeks, and Lily visited the dragon every day, bringing it food and keeping it company.\n",
      "\n",
      "As the dragon's wing began to heal, Lily realized that she needed to find a way to teach the dragon to fly. She consulted the wise old owl who lived in the tallest tree in the forest. The owl shared ancient wisdom and guided Lily on a quest to find a rare, magical feather that could grant the dragon the ability to fly once again.\n",
      "\n",
      "Together, Lily and the dragon embarked on an incredible adventure. They traversed dark caves, crossed treacherous rivers, and climbed towering mountains. Along the way, they encountered talking animals, mischievous fairies, and kind-hearted giants who all joined their quest.\n",
      "\n",
      "Finally, after many trials and tribulations, Lily found the magical feather hidden atop a majestic waterfall. She carefully plucked the feather and gently placed it on the dragon's back. As soon as the feather touched the dragon's scales, it began to shimmer and glow.\n",
      "\n",
      "With a gleeful roar, the dragon spread its wings and soared into the sky, leaving streaks of sparkling fairy dust in its wake. Lily watched in awe as her beloved dragon friend soared higher and higher, exploring the vast, magical realm they had discovered together.\n",
      "\n",
      "From that day forward, the dragon and Lily remained inseparable. Together, they embarked on countless adventures, helping others in need and spreading love and kindness throughout the enchanted land.\n",
      "\n",
      "And as the village's resident dragon rider, Lily became a hero, inspiring others to embrace their own unique gifts and find the magic within themselves.\n",
      "\n",
      "As the stars glittered in the night sky, Lily and her dragon friend would embrace each other, knowing that they were truly meant for each other, bound by a friendship that would last forever.\n",
      "\n",
      "And with that heartwarming thought, little Lily closed her eyes, feeling safe and loved, drifting off into the sweetest of dreams. The end. \n",
      "\n",
      "Sleep tight, my dear friend. See you in the morning!\n",
      "\n",
      "\n",
      "\n",
      "Review:\n",
      "\n",
      " The story is a heartwarming tale of friendship, compassion, and the magic of the natural world. The narrative transports young readers to a land where animals can talk and where the bond between a dragon and its human friend is one of pure love and adventure. Through its captivating portrayal of the characters and their journey to find the magical feather, the story resonates as a reminder that the simplest acts of kindness can create a world of wonder and joy.\n"
     ]
    }
   ],
   "source": [
    "print(f\"Story:\\n\\n{story}\", end = \"\\n\"*4)\n",
    "print(f\"Review:\\n\\n{review}\")"
   ]
  },
  {
   "cell_type": "markdown",
   "id": "7c09579b-f989-44ab-ae2e-004a6deed710",
   "metadata": {},
   "source": [
    "<br>\n",
    "<br>\n",
    "We could have replicated the same in a streamlit app. But, as there are not many inputs to get from users there won't be much to display over there... That's why I haven't touched that part.\n",
    "<br>\n",
    "<br>\n",
    "Thanks for the opportunity 🙏🏻...\n",
    "<br>\n",
    "<br>\n",
    "\n",
    "Developer Details:\n",
    "\n",
    "[LinkedIn](https://www.linkedin.com/in/nirmal-data-scientist/)\n",
    "\n",
    "[GitHub](https://github.com/nirmals-workspace)\n",
    "\n",
    "[Medium](nirmal-ai.medium.com)\n",
    "\n",
    "[Updated Resume](https://drive.google.com/file/d/1O5cOW-GxIxJo32wR_ibtGnGJJ2JHmY4z/view?usp=sharing)"
   ]
  }
 ],
 "metadata": {
  "kernelspec": {
   "display_name": "Python 3 (ipykernel)",
   "language": "python",
   "name": "python3"
  },
  "language_info": {
   "codemirror_mode": {
    "name": "ipython",
    "version": 3
   },
   "file_extension": ".py",
   "mimetype": "text/x-python",
   "name": "python",
   "nbconvert_exporter": "python",
   "pygments_lexer": "ipython3",
   "version": "3.10.11"
  }
 },
 "nbformat": 4,
 "nbformat_minor": 5
}
